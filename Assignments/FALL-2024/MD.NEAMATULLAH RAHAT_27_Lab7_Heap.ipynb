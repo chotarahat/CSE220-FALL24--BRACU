{
  "nbformat": 4,
  "nbformat_minor": 0,
  "metadata": {
    "colab": {
      "provenance": []
    },
    "kernelspec": {
      "name": "python3",
      "display_name": "Python 3"
    },
    "language_info": {
      "name": "python"
    }
  },
  "cells": [
    {
      "cell_type": "markdown",
      "source": [
        "**TASK 1**"
      ],
      "metadata": {
        "id": "VeG3ppyWoRi7"
      }
    },
    {
      "cell_type": "code",
      "execution_count": 7,
      "metadata": {
        "id": "97ZPObZNPI79"
      },
      "outputs": [],
      "source": [
        "class MinHeap:\n",
        "  def __init__(self, capacity):\n",
        "    self.__capacity = capacity\n",
        "    self.__heap = [0] * capacity\n",
        "    self.__size = 0\n",
        "\n",
        "  def insert(self, value):\n",
        "    if self.__size >= self.__capacity:\n",
        "      return \"Heap is full\"\n",
        "    self.__heap[self.__size] = value\n",
        "    self.__size += 1\n",
        "    self.__swim(self.__size - 1)\n",
        "\n",
        "  def __swim(self, index):\n",
        "    while index > 0:\n",
        "      parent = (index - 1) // 2\n",
        "      if self.__heap[index] < self.__heap[parent]:\n",
        "        temp = self.__heap[index]\n",
        "        self.__heap[index] = self.__heap[parent]\n",
        "        self.__heap[parent] = temp\n",
        "        index = parent\n",
        "      else:\n",
        "          break\n",
        "\n",
        "  def extractMin(self):\n",
        "    if self.__size <= 0:\n",
        "      return \"Heap is empty\"\n",
        "    min_value = self.__heap[0]\n",
        "    self.__heap[0] = self.__heap[self.__size - 1]\n",
        "    self.__size -= 1\n",
        "    self.__sink(0)\n",
        "    return min_value\n",
        "\n",
        "  def __sink(self, index):\n",
        "    while 2* index+1 < self.__size:\n",
        "      left = 2 * index + 1\n",
        "      right = 2 * index + 2\n",
        "      smallest = left\n",
        "\n",
        "      if right< self.__size and self.__heap[right] < self.__heap[left]:\n",
        "        smallest = right\n",
        "      if self.__heap[index] <= self.__heap[smallest]:\n",
        "        break\n",
        "      temp = self.__heap[index]\n",
        "      self.__heap[index] = self.__heap[smallest]\n",
        "      self.__heap[smallest] = temp\n",
        "      index  = smallest\n",
        "\n",
        "  def sort(self):\n",
        "    result = [0]* self.__size\n",
        "    og_size = self.__size\n",
        "    for i in range(og_size):\n",
        "        result[i] = self.extractMin()\n",
        "    for i in range(og_size):\n",
        "      self.__heap[i] = result[i]\n",
        "    self.__size = og_size\n",
        "    return result\n"
      ]
    },
    {
      "cell_type": "markdown",
      "source": [
        "**TASK 2**"
      ],
      "metadata": {
        "id": "dmEO9066oPE-"
      }
    },
    {
      "cell_type": "code",
      "source": [
        "class MaxHeap:\n",
        "  def __init__(self, capacity):\n",
        "    self.__capacity = capacity\n",
        "    self.__heap = [0] * capacity\n",
        "    self.__size = 0\n",
        "\n",
        "  def insert(self, value):\n",
        "    if self.__size >= self.__capacity:\n",
        "      return \"Heap is full\"\n",
        "    self.__heap[self.__size] = value\n",
        "    self.__size += 1\n",
        "    self.__swim(self.__size - 1)\n",
        "\n",
        "  def __swim(self, index):\n",
        "    while index > 0:\n",
        "      parent = (index - 1) // 2\n",
        "      if self.__heap[index] > self.__heap[parent]:\n",
        "        temp = self.__heap[index]\n",
        "        self.__heap[index] = self.__heap[parent]\n",
        "        self.__heap[parent] = temp\n",
        "        index = parent\n",
        "      else:\n",
        "        break\n",
        "\n",
        "  def extractMax(self):\n",
        "    if self.__size <= 0:\n",
        "      return \"Heap is empty\"\n",
        "    max_value = self.__heap[0]\n",
        "    self.__heap[0] = self.__heap[self.__size - 1]\n",
        "    self.__size -= 1\n",
        "    self.__sink(0)\n",
        "    return max_value\n",
        "\n",
        "  def __sink(self, index):\n",
        "    while 2 * index + 1 < self.__size:\n",
        "      left = 2 * index + 1\n",
        "      right = 2 * index + 2\n",
        "      largest = left\n",
        "\n",
        "      if right < self.__size and self.__heap[right] > self.__heap[left]:\n",
        "        largest = right\n",
        "\n",
        "      if self.__heap[index] >= self.__heap[largest]:\n",
        "        break\n",
        "\n",
        "      temp = self.__heap[index]\n",
        "      self.__heap[index] = self.__heap[largest]\n",
        "      self.__heap[largest] =temp\n",
        "      index = largest\n",
        "\n",
        "  def sort(self):\n",
        "      result = [0]* self.__size\n",
        "      og_size = self.__size\n",
        "      for i in range(og_size):\n",
        "        result[i] = self.extractMax()\n",
        "      for i in range(og_size):\n",
        "        self.__heap[i] = result[i]\n",
        "      self.__size = og_size\n",
        "      return result"
      ],
      "metadata": {
        "id": "IgnDip0ikx-5"
      },
      "execution_count": 8,
      "outputs": []
    },
    {
      "cell_type": "markdown",
      "source": [
        "**TASK 3**"
      ],
      "metadata": {
        "id": "9pWlU8ADoGeH"
      }
    },
    {
      "cell_type": "code",
      "source": [
        "def distribute_tasks(tasks, m):\n",
        "  min_heap = MinHeap(m)\n",
        "  for i in range(m):\n",
        "    min_heap.insert(0)\n",
        "\n",
        "  for i in tasks:\n",
        "    smallest_load = min_heap.extractMin()\n",
        "    min_heap.insert(smallest_load + i)\n",
        "\n",
        "  result = [0]* m\n",
        "  for i in range(m):\n",
        "    result[i] = min_heap.extractMin()\n",
        "  return result\n",
        "\n",
        "\n",
        "tasks = [2, 4, 7, 1, 6]\n",
        "m = 4\n",
        "print(distribute_tasks(tasks, m))"
      ],
      "metadata": {
        "colab": {
          "base_uri": "https://localhost:8080/"
        },
        "id": "1Ffrxy-smfeK",
        "outputId": "860bca71-3a69-4f1d-fe2f-88116adb3e1c"
      },
      "execution_count": 12,
      "outputs": [
        {
          "output_type": "stream",
          "name": "stdout",
          "text": [
            "[2, 4, 7, 7]\n"
          ]
        }
      ]
    },
    {
      "cell_type": "markdown",
      "source": [
        "**TASK 4**"
      ],
      "metadata": {
        "id": "ZtbkZq8GoCzU"
      }
    },
    {
      "cell_type": "code",
      "source": [
        "def largest_elem(nums, k):\n",
        "  max_heap = MaxHeap(len(nums))\n",
        "  for i in range(len(nums)):\n",
        "    max_heap.insert(nums[i])\n",
        "  result = [0] * k\n",
        "  for i in range(k):\n",
        "    result[i] = max_heap.extractMax()\n",
        "  return result\n",
        "\n",
        "nums = [4, 10, 2, 8, 6, 7]\n",
        "k = 3\n",
        "print(largest_elem(nums, k))"
      ],
      "metadata": {
        "colab": {
          "base_uri": "https://localhost:8080/"
        },
        "id": "g68yHOfmnT78",
        "outputId": "27867047-4337-4bf0-c319-a2a06402af54"
      },
      "execution_count": 11,
      "outputs": [
        {
          "output_type": "stream",
          "name": "stdout",
          "text": [
            "[10, 8, 7]\n"
          ]
        }
      ]
    }
  ]
}