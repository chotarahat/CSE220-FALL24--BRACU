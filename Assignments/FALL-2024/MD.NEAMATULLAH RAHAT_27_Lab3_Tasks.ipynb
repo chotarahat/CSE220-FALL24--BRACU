{
  "nbformat": 4,
  "nbformat_minor": 0,
  "metadata": {
    "colab": {
      "provenance": []
    },
    "kernelspec": {
      "name": "python3",
      "display_name": "Python 3"
    },
    "language_info": {
      "name": "python"
    }
  },
  "cells": [
    {
      "cell_type": "code",
      "execution_count": 2,
      "metadata": {
        "id": "Pp1R95Pe7ID2",
        "outputId": "322e7419-2eb7-4793-8e42-c57efcb993cf",
        "colab": {
          "base_uri": "https://localhost:8080/"
        }
      },
      "outputs": [
        {
          "output_type": "stream",
          "name": "stdout",
          "text": [
            "Collecting fhm-unittest\n",
            "  Downloading fhm_unittest-1.0.1-py3-none-any.whl.metadata (1.9 kB)\n",
            "Downloading fhm_unittest-1.0.1-py3-none-any.whl (2.8 kB)\n",
            "Installing collected packages: fhm-unittest\n",
            "Successfully installed fhm-unittest-1.0.1\n",
            "Collecting fuzzywuzzy\n",
            "  Downloading fuzzywuzzy-0.18.0-py2.py3-none-any.whl.metadata (4.9 kB)\n",
            "Downloading fuzzywuzzy-0.18.0-py2.py3-none-any.whl (18 kB)\n",
            "Installing collected packages: fuzzywuzzy\n",
            "Successfully installed fuzzywuzzy-0.18.0\n"
          ]
        },
        {
          "output_type": "stream",
          "name": "stderr",
          "text": [
            "/usr/local/lib/python3.10/dist-packages/fuzzywuzzy/fuzz.py:11: UserWarning: Using slow pure-python SequenceMatcher. Install python-Levenshtein to remove this warning\n",
            "  warnings.warn('Using slow pure-python SequenceMatcher. Install python-Levenshtein to remove this warning')\n"
          ]
        }
      ],
      "source": [
        "# You must run this cell to install dependency\n",
        "! pip3 install fhm-unittest\n",
        "! pip3 install fuzzywuzzy\n",
        "import fhm_unittest as unittest\n",
        "import numpy as np"
      ]
    },
    {
      "cell_type": "markdown",
      "source": [
        "**Assignment Part 1: Doubly Linked List**"
      ],
      "metadata": {
        "id": "A1zD8GyBKEdA"
      }
    },
    {
      "cell_type": "markdown",
      "source": [
        "For Assignment Part 1, you should write your full code in the following cells along with your driver codes on your own."
      ],
      "metadata": {
        "id": "z4q4a-vSNoII"
      }
    },
    {
      "cell_type": "code",
      "source": [
        "#Assignment Part 1\n",
        "\n",
        "class Patient:\n",
        "  #write a constructor\n",
        "  def __init__(self, id, name, age, bloodgroup, next, prev):\n",
        "    self.id = id\n",
        "    self.name = name\n",
        "    self.age = age\n",
        "    self.bloodgroup = bloodgroup\n",
        "    self.next = next\n",
        "    self.prev = prev"
      ],
      "metadata": {
        "id": "itoWpG7oNziA"
      },
      "execution_count": 3,
      "outputs": []
    },
    {
      "cell_type": "code",
      "source": [
        "class WRM:\n",
        "\n",
        "  def __init__(self):\n",
        "    #Creating the dummy head\n",
        "    self.dh = Patient(None,None,None,None,None,None)\n",
        "    self.dh.next = self.dh\n",
        "    self.dh.prev = self.dh\n",
        "\n",
        "  def registerPatient(self,id, name, age, bloodgroup):\n",
        "    #To Do\n",
        "    new_patient = Patient(id,name,age,bloodgroup,None,None)\n",
        "    last = self.dh.prev\n",
        "    last.next = new_patient\n",
        "    new_patient.prev = last\n",
        "    new_patient.next = self.dh\n",
        "    self.dh.prev = new_patient\n",
        "    print(\"Patient registered successfulyy.\")\n",
        "\n",
        "  def servePatient(self):\n",
        "    #To Do\n",
        "    if self.dh.next == self.dh:\n",
        "      print(\"No patients in the waiting room.\")\n",
        "      return\n",
        "    first_patient = self.dh.next\n",
        "    print(f\"Serving patient: {first_patient.name}\")\n",
        "    self.dh.next = first_patient.next\n",
        "    first_patient.next.prev = self.dh\n",
        "\n",
        "  def showAllPatient(self):\n",
        "    #To Do\n",
        "    if self.dh.next == self.dh:\n",
        "      print(\"No patients in the waiting room.\")\n",
        "      return\n",
        "    current = self.dh.next\n",
        "    print(\"Patients in the waiting room:\")\n",
        "    while current != self.dh:\n",
        "      print(f\"ID: {current.id}, Name: {current.name}, Age: {current.age}, Blood Group: {current.bloodgroup}\")\n",
        "      current = current.next\n",
        "\n",
        "  def canDoctorGoHome(self):\n",
        "    #To Do\n",
        "    if self.dh.next == self.dh:\n",
        "      print(\"Yes, doctor can go home.\")\n",
        "      return True\n",
        "    else:\n",
        "      print(\"No, patients are still waiting\")\n",
        "      return False\n",
        "\n",
        "  def cancelAll(self):\n",
        "    #To Do\n",
        "    self.dh.next = self.dh\n",
        "    self.dh.prev = self.dh\n",
        "    print(\"All appointments have been canceled\")\n",
        "\n",
        "  def ReverseTheLine(self):\n",
        "    #To Do\n",
        "    if self.dh.next == self.dh:\n",
        "      print(\"No patients to reverse.\")\n",
        "      return\n",
        "    current = self.dh\n",
        "    while True:\n",
        "      current.next = current.prev\n",
        "      current.prev = current.next\n",
        "      if current == self.dh:\n",
        "        break\n",
        "    print(\"Patient line reversed.\")\n"
      ],
      "metadata": {
        "id": "dNx7zTJ1OZNv"
      },
      "execution_count": 16,
      "outputs": []
    },
    {
      "cell_type": "code",
      "source": [
        "#Write a Tester Code in this cell\n",
        "def main():\n",
        "\n",
        "  wrm = WRM()\n",
        "  while True:\n",
        "    print(\"\\n**Welcome to Waiting Room Management System**\")\n",
        "    print(\"\\nOptions:\")\n",
        "    print(\"1. Add Patient\")\n",
        "    print(\"2. Serve Patient\")\n",
        "    print(\"3. Show All Patient\")\n",
        "    print(\"4. Can Doctor Go Home?\")\n",
        "    print(\"5. Cancel All Appointments\")\n",
        "    print(\"6. Reverse The Line\")\n",
        "    print(\"7. Exit\")\n",
        "\n",
        "    choice = int(input(\"Enter your choice: \"))\n",
        "\n",
        "    if choice == 1:\n",
        "      id = int(input(\"Enter patient ID: \"))\n",
        "      name = input(\"Enter patient name: \")\n",
        "      age = int(input(\"Enter patient age: \"))\n",
        "      bloodgroup = input(\"Enter patient blood group: \")\n",
        "      wrm.registerPatient(id,name,age,bloodgroup)\n",
        "      print(\"Patient added successfully.\")\n",
        "    elif choice == 2:\n",
        "      wrm.servePatient()\n",
        "    elif choice == 3:\n",
        "      wrm.showAllPatient()\n",
        "    elif choice == 4:\n",
        "      wrm.canDoctorGoHome()\n",
        "    elif choice == 5:\n",
        "      wrm.cancelAll()\n",
        "    elif choice == 6:\n",
        "      wrm.ReverseTheLine()\n",
        "    elif choice == 7:\n",
        "      print(\"Exiting the system. Goodbye!\")\n",
        "      break\n",
        "    else:\n",
        "      print(\"Invalid choice. Please try again.\")\n",
        "if __name__==\"__main__\":\n",
        "  main()"
      ],
      "metadata": {
        "id": "jKhbn1LAPfjr",
        "outputId": "1141bc1b-7977-43e3-b424-cb587be3bda7",
        "colab": {
          "base_uri": "https://localhost:8080/"
        }
      },
      "execution_count": 17,
      "outputs": [
        {
          "output_type": "stream",
          "name": "stdout",
          "text": [
            "\n",
            "**Welcome to Waiting Room Management System**\n",
            "\n",
            "Options:\n",
            "1. Add Patient\n",
            "2. Serve Patient\n",
            "3. Show All Patient\n",
            "4. Can Doctor Go Home?\n",
            "5. Cancel All Appointments\n",
            "6. Reverse The Line\n",
            "7. Exit\n",
            "Enter your choice: 1\n",
            "Enter patient ID: 11\n",
            "Enter patient name: qq\n",
            "Enter patient age: 111\n",
            "Enter patient blood group: A+\n",
            "Patient registered successfulyy.\n",
            "Patient added successfully.\n",
            "\n",
            "**Welcome to Waiting Room Management System**\n",
            "\n",
            "Options:\n",
            "1. Add Patient\n",
            "2. Serve Patient\n",
            "3. Show All Patient\n",
            "4. Can Doctor Go Home?\n",
            "5. Cancel All Appointments\n",
            "6. Reverse The Line\n",
            "7. Exit\n",
            "Enter your choice: 2\n",
            "Serving patient: qq\n",
            "\n",
            "**Welcome to Waiting Room Management System**\n",
            "\n",
            "Options:\n",
            "1. Add Patient\n",
            "2. Serve Patient\n",
            "3. Show All Patient\n",
            "4. Can Doctor Go Home?\n",
            "5. Cancel All Appointments\n",
            "6. Reverse The Line\n",
            "7. Exit\n",
            "Enter your choice: 3\n",
            "No patients in the waiting room.\n",
            "\n",
            "**Welcome to Waiting Room Management System**\n",
            "\n",
            "Options:\n",
            "1. Add Patient\n",
            "2. Serve Patient\n",
            "3. Show All Patient\n",
            "4. Can Doctor Go Home?\n",
            "5. Cancel All Appointments\n",
            "6. Reverse The Line\n",
            "7. Exit\n",
            "Enter your choice: 4\n",
            "Yes, doctor can go home.\n",
            "\n",
            "**Welcome to Waiting Room Management System**\n",
            "\n",
            "Options:\n",
            "1. Add Patient\n",
            "2. Serve Patient\n",
            "3. Show All Patient\n",
            "4. Can Doctor Go Home?\n",
            "5. Cancel All Appointments\n",
            "6. Reverse The Line\n",
            "7. Exit\n",
            "Enter your choice: 5\n",
            "All appointments have been canceled\n",
            "\n",
            "**Welcome to Waiting Room Management System**\n",
            "\n",
            "Options:\n",
            "1. Add Patient\n",
            "2. Serve Patient\n",
            "3. Show All Patient\n",
            "4. Can Doctor Go Home?\n",
            "5. Cancel All Appointments\n",
            "6. Reverse The Line\n",
            "7. Exit\n",
            "Enter your choice: 6\n",
            "No patients to reverse.\n",
            "\n",
            "**Welcome to Waiting Room Management System**\n",
            "\n",
            "Options:\n",
            "1. Add Patient\n",
            "2. Serve Patient\n",
            "3. Show All Patient\n",
            "4. Can Doctor Go Home?\n",
            "5. Cancel All Appointments\n",
            "6. Reverse The Line\n",
            "7. Exit\n",
            "Enter your choice: 7\n",
            "Exiting the system. Goodbye!\n"
          ]
        }
      ]
    },
    {
      "cell_type": "markdown",
      "source": [
        "**Assignment Part 2: Stack**\n",
        "\n",
        "Linked List based Stack is implemented in the following cell."
      ],
      "metadata": {
        "id": "CJWd_j6YEnPn"
      }
    },
    {
      "cell_type": "code",
      "source": [
        "class Node:\n",
        "  def __init__(self,elem=None,next=None):\n",
        "    self.elem = elem\n",
        "    self.next = next\n",
        "\n",
        "class Stack:\n",
        "  def __init__(self):\n",
        "    self.__top = None\n",
        "\n",
        "  def push(self,elem):\n",
        "    nn = Node(elem,self.__top)\n",
        "    self.__top = nn\n",
        "\n",
        "  def pop(self):\n",
        "    if self.__top == None:\n",
        "      #print('Stack Underflow')\n",
        "      return None\n",
        "    e = self.__top\n",
        "    self.__top = self.__top.next\n",
        "    return e.elem\n",
        "\n",
        "  def peek(self):\n",
        "    if self.__top == None:\n",
        "      #print('Stack Underflow')\n",
        "      return None\n",
        "    return self.__top.elem\n",
        "\n",
        "  def isEmpty(self):\n",
        "    return self.__top == None\n"
      ],
      "metadata": {
        "id": "KHLhs5x0D-O6"
      },
      "execution_count": 29,
      "outputs": []
    },
    {
      "cell_type": "code",
      "source": [
        "#You can run this driver code cell to understand the methods of Stack class\n",
        "st = Stack()\n",
        "st.push(4)\n",
        "st.push(3)\n",
        "st.push(5)\n",
        "st.push(1)\n",
        "st.push(9)\n",
        "\n",
        "print('Peeked Element: ',st.peek())\n",
        "print('Popped Element: ',st.pop())\n",
        "print('Popped Element: ',st.pop())\n",
        "print('Popped Element: ',st.pop())\n",
        "print('Peeked Element: ',st.peek())\n",
        "print('Popped Element: ',st.pop())\n",
        "print('Popped Element: ',st.pop())\n",
        "print('Peeked Element: ',st.peek())\n",
        "print('Popped Element: ',st.pop())\n",
        "print(st.isEmpty())"
      ],
      "metadata": {
        "id": "4XkuMA7gEjE7",
        "outputId": "755670a3-3377-4c81-a79b-bc843148fa51",
        "colab": {
          "base_uri": "https://localhost:8080/"
        }
      },
      "execution_count": 30,
      "outputs": [
        {
          "output_type": "stream",
          "name": "stdout",
          "text": [
            "Peeked Element:  9\n",
            "Popped Element:  9\n",
            "Popped Element:  1\n",
            "Popped Element:  5\n",
            "Peeked Element:  3\n",
            "Popped Element:  3\n",
            "Popped Element:  4\n",
            "Peeked Element:  None\n",
            "Popped Element:  None\n",
            "True\n"
          ]
        }
      ]
    },
    {
      "cell_type": "markdown",
      "source": [
        "You can print your stack using this code segment"
      ],
      "metadata": {
        "id": "xrfONLccG9Gi"
      }
    },
    {
      "cell_type": "code",
      "source": [
        "def print_stack(st):\n",
        "  if st.isEmpty():\n",
        "    return\n",
        "  p = st.pop()\n",
        "  print('|',p,end=' ')\n",
        "  if p<10:\n",
        "    print(' |')\n",
        "  else:\n",
        "    print('|')\n",
        "  #print('------')\n",
        "  print_stack(st)\n",
        "  st.push(p)\n",
        "\n",
        "st = Stack()\n",
        "st.push(4)\n",
        "st.push(3)\n",
        "st.push(5)\n",
        "st.push(1)\n",
        "st.push(9)\n",
        "print_stack(st)\n",
        "print('------')"
      ],
      "metadata": {
        "id": "S-EembO_GsWA",
        "outputId": "989409a2-401f-4bfb-969f-94f26dbec80b",
        "colab": {
          "base_uri": "https://localhost:8080/"
        }
      },
      "execution_count": 31,
      "outputs": [
        {
          "output_type": "stream",
          "name": "stdout",
          "text": [
            "| 9  |\n",
            "| 1  |\n",
            "| 5  |\n",
            "| 3  |\n",
            "| 4  |\n",
            "------\n"
          ]
        }
      ]
    },
    {
      "cell_type": "markdown",
      "source": [
        "Task 1: Diamond Count"
      ],
      "metadata": {
        "id": "iNMnfqqpIga2"
      }
    },
    {
      "cell_type": "code",
      "source": [
        "def diamond_count(stack,string):\n",
        "  #TO DO\n",
        "  count = 0\n",
        "  for i in string:\n",
        "    if i == \"<\":\n",
        "      stack.push(\"<\")\n",
        "    elif i == \">\":\n",
        "      if not stack.isEmpty() and stack.peek() == \"<\":\n",
        "        stack.pop()\n",
        "        count +=1\n",
        "  return count\n",
        "\n",
        "\n",
        "\n",
        "print('Test 01')\n",
        "stack = Stack()\n",
        "string = '<..><.<..>> '\n",
        "returned_value = diamond_count(stack,string)\n",
        "print(f'Number of Diamonds: {returned_value}') #This should print 3\n",
        "unittest.output_test(returned_value, 3)\n",
        "print('-----------------------------------------')\n",
        "\n",
        "\n",
        "print('Test 02')\n",
        "stack = Stack()\n",
        "string = '<<<..<......<<<<....>'\n",
        "returned_value = diamond_count(stack,string)\n",
        "print(f'Number of Diamonds: {returned_value}') #This should print 1\n",
        "unittest.output_test(returned_value, 1)\n",
        "print('-----------------------------------------')\n",
        "\n",
        "\n",
        "print('Test 03')\n",
        "stack = Stack()\n",
        "string = '>>><...<<..>>...>...>>>'\n",
        "returned_value = diamond_count(stack,string)\n",
        "print(f'Number of Diamonds: {returned_value}') #This should print 3\n",
        "unittest.output_test(returned_value, 3)\n",
        "print('-----------------------------------------')"
      ],
      "metadata": {
        "id": "GnX70OIvG_gZ",
        "outputId": "b9229e8e-4271-4ad2-8a64-9cc1bc2942d4",
        "colab": {
          "base_uri": "https://localhost:8080/"
        }
      },
      "execution_count": 32,
      "outputs": [
        {
          "output_type": "stream",
          "name": "stdout",
          "text": [
            "Test 01\n",
            "Number of Diamonds: 3\n",
            "Accepted\n",
            "-----------------------------------------\n",
            "Test 02\n",
            "Number of Diamonds: 1\n",
            "Accepted\n",
            "-----------------------------------------\n",
            "Test 03\n",
            "Number of Diamonds: 3\n",
            "Accepted\n",
            "-----------------------------------------\n"
          ]
        }
      ]
    },
    {
      "cell_type": "markdown",
      "source": [
        "Task 2: Tower of Blocks"
      ],
      "metadata": {
        "id": "PhCF3SZ6IX5g"
      }
    },
    {
      "cell_type": "code",
      "source": [
        "def remove_block(stack, n):\n",
        "  #TO DO\n",
        "  temp_stack = Stack()\n",
        "  for i in range(n - 1):\n",
        "    temp_stack.push(stack.pop())\n",
        "  stack.pop()\n",
        "  while not temp_stack.isEmpty():\n",
        "    stack.push(temp_stack.pop())\n",
        "\n",
        "print('Test 01')\n",
        "st = Stack()\n",
        "st.push(4)\n",
        "st.push(19)\n",
        "st.push(23)\n",
        "st.push(17)\n",
        "st.push(5)\n",
        "print('Stack:')\n",
        "print_stack(st)\n",
        "print('------')\n",
        "remove_block(st,2)\n",
        "print('After Removal')\n",
        "print_stack(st)\n",
        "print('------')\n",
        "\n",
        "print()\n",
        "print('======================================')\n",
        "print()\n",
        "\n",
        "print('Test 02')\n",
        "st = Stack()\n",
        "st.push(73)\n",
        "st.push(85)\n",
        "st.push(15)\n",
        "st.push(41)\n",
        "print('Stack:')\n",
        "print_stack(st)\n",
        "print('------')\n",
        "remove_block(st,3)\n",
        "print('After Removal')\n",
        "print_stack(st)\n",
        "print('------')\n",
        "\n",
        "print()\n",
        "print('======================================')\n",
        "print()"
      ],
      "metadata": {
        "id": "W3N4q7YAHExr",
        "outputId": "2727f43c-407c-4f12-c650-859401bc3e6f",
        "colab": {
          "base_uri": "https://localhost:8080/"
        }
      },
      "execution_count": 33,
      "outputs": [
        {
          "output_type": "stream",
          "name": "stdout",
          "text": [
            "Test 01\n",
            "Stack:\n",
            "| 5  |\n",
            "| 17 |\n",
            "| 23 |\n",
            "| 19 |\n",
            "| 4  |\n",
            "------\n",
            "After Removal\n",
            "| 5  |\n",
            "| 23 |\n",
            "| 19 |\n",
            "| 4  |\n",
            "------\n",
            "\n",
            "======================================\n",
            "\n",
            "Test 02\n",
            "Stack:\n",
            "| 41 |\n",
            "| 15 |\n",
            "| 85 |\n",
            "| 73 |\n",
            "------\n",
            "After Removal\n",
            "| 41 |\n",
            "| 15 |\n",
            "| 73 |\n",
            "------\n",
            "\n",
            "======================================\n",
            "\n"
          ]
        }
      ]
    },
    {
      "cell_type": "markdown",
      "source": [
        "Task 3: Stack Reverse"
      ],
      "metadata": {
        "id": "jcngRuqUWOfl"
      }
    },
    {
      "cell_type": "code",
      "source": [
        "def conditional_reverse(stack):\n",
        "  #To Do\n",
        "  temp = Stack()\n",
        "  prev_elem = None\n",
        "\n",
        "  while not stack.isEmpty():\n",
        "    curr_elem = stack.pop()\n",
        "    if curr_elem != prev_elem:\n",
        "      temp.push(curr_elem)\n",
        "    prev_elem = curr_elem\n",
        "  reversed_stack = Stack()\n",
        "  while not temp.isEmpty():\n",
        "    reversed_stack.push(temp.pop())\n",
        "\n",
        "  return reversed_stack\n",
        "\n",
        "\n",
        "print('Test 01')\n",
        "st=Stack()\n",
        "st.push(10)\n",
        "st.push(10)\n",
        "st.push(20)\n",
        "st.push(20)\n",
        "st.push(30)\n",
        "st.push(10)\n",
        "st.push(50)\n",
        "print('Stack:')\n",
        "print_stack(st)\n",
        "print('------')\n",
        "reversed_stack=conditional_reverse(st)\n",
        "print('Conditional Reversed Stack:')\n",
        "print_stack(reversed_stack) # This stack contains 50, 10, 30, 20, 10 in this order whereas top element should be 10\n",
        "print('------')"
      ],
      "metadata": {
        "id": "gLSgfDKPWPnP",
        "outputId": "97a6635f-eaf8-441c-f94f-8ec43f4ade5b",
        "colab": {
          "base_uri": "https://localhost:8080/"
        }
      },
      "execution_count": 34,
      "outputs": [
        {
          "output_type": "stream",
          "name": "stdout",
          "text": [
            "Test 01\n",
            "Stack:\n",
            "| 50 |\n",
            "| 10 |\n",
            "| 30 |\n",
            "| 20 |\n",
            "| 20 |\n",
            "| 10 |\n",
            "| 10 |\n",
            "------\n",
            "Conditional Reversed Stack:\n",
            "| 50 |\n",
            "| 10 |\n",
            "| 30 |\n",
            "| 20 |\n",
            "| 10 |\n",
            "------\n"
          ]
        }
      ]
    }
  ]
}